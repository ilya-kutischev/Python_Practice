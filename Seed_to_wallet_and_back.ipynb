{
 "cells": [
  {
   "cell_type": "code",
   "execution_count": 1,
   "id": "turkish-folks",
   "metadata": {},
   "outputs": [],
   "source": [
    "# Источники\n",
    "# https://medium.com/bitbees/python-code-to-manually-create-12-24-worded-seed-and-passphrase-without-trusting-bitcoin-wallets-9d158535dfc6\n",
    "# https://github.com/trezor/python-mnemonic\n",
    "# данный код позволяет с помощью заданного случайного числа (256 бит) составить детерминированную seed фразу или наоборот\n",
    "# основан на официальном наборе bip0039 english.txt из 2048 cлов\n",
    "import hashlib # for SHA256 computation\n",
    "import binascii # for conversion between Hexa and bytes\n",
    "from mnemonic import Mnemonic as mnemonic"
   ]
  },
  {
   "cell_type": "code",
   "execution_count": 2,
   "id": "welcome-syndrome",
   "metadata": {},
   "outputs": [
    {
     "name": "stdout",
     "output_type": "stream",
     "text": [
      "48\n"
     ]
    },
    {
     "data": {
      "text/plain": [
       "'\\nМнемоника должна кодировать энтропию кратным 32 битам.\\nДопустимый размер начальной энтропии составляет 128–256 бит.\\nВы должны генерировать свою собственную энтропию, подбрасывая монету или бросая кости.\\nОбратите внимание, что длина энтропии, которую я ввел,\\nравна 48 в шестнадцатеричном формате или 192 в двоичном формате, что кратно 32.\\n'"
      ]
     },
     "execution_count": 2,
     "metadata": {},
     "output_type": "execute_result"
    }
   ],
   "source": [
    "entropy = \"c10ec20dc3cd9f652c7fac2f1230f7a3c828389a14392f05\"\n",
    "#entropy = \"45c0b56a2a34de71210fba54900fd5228ad432869530162e\"\n",
    "print(len(entropy))\n",
    "\"\"\"\n",
    "Мнемоника должна кодировать энтропию кратным 32 битам.\n",
    "Допустимый размер начальной энтропии составляет 128–256 бит.\n",
    "Вы должны генерировать свою собственную энтропию, подбрасывая монету или бросая кости.\n",
    "Обратите внимание, что длина энтропии, которую я ввел,\n",
    "равна 48 в шестнадцатеричном формате или 192 в двоичном формате, что кратно 32.\n",
    "\"\"\""
   ]
  },
  {
   "cell_type": "code",
   "execution_count": 3,
   "id": "portuguese-lodging",
   "metadata": {},
   "outputs": [
    {
     "name": "stdout",
     "output_type": "stream",
     "text": [
      "b'\\xc1\\x0e\\xc2\\r\\xc3\\xcd\\x9fe,\\x7f\\xac/\\x120\\xf7\\xa3\\xc8(8\\x9a\\x149/\\x05'\n"
     ]
    }
   ],
   "source": [
    "data = entropy.strip() #cleaning of data\n",
    "data = binascii.unhexlify(data) #перевод binary data\n",
    "print(data)\n",
    "if len(data) not in [16, 20, 24, 28, 32]:\n",
    "    raise ValueError(\"Data length should be one of the following: [16, 20, 24, 28, 32], but it is not (%d).\" % len(data))"
   ]
  },
  {
   "cell_type": "code",
   "execution_count": 4,
   "id": "thousand-gamma",
   "metadata": {},
   "outputs": [
    {
     "name": "stdout",
     "output_type": "stream",
     "text": [
      "['scissors', 'invite', 'lock', 'maple', 'supreme', 'raw', 'rapid', 'void', 'congress', 'muscle', 'digital', 'elegant', 'little', 'brisk', 'hair', 'mango', 'congress', 'clump']\n"
     ]
    }
   ],
   "source": [
    "# print(data)\n",
    "h = hashlib.sha256(data).hexdigest()\n",
    "b = bin(int(binascii.hexlify(data),16))[2:].zfill(len(data)*8) + bin(int(h,16))[2:].zfill(256)[: len(data)* 8//32]\n",
    "with open(\"english.txt\", \"r\") as f:\n",
    "         wordlist = [w.strip() for w in f.readlines()]\n",
    "# генерируем seed фразу из заданного случайного набора (энтропии)        \n",
    "seed = []\n",
    "for i in range(len(b)//11):\n",
    "    indx = int(b[11*i:11*(i+1)],2)\n",
    "    seed.append(wordlist[indx])\n",
    "#print(entropy)\n",
    "print(seed) "
   ]
  },
  {
   "cell_type": "code",
   "execution_count": 5,
   "id": "affected-singing",
   "metadata": {},
   "outputs": [
    {
     "name": "stdout",
     "output_type": "stream",
     "text": [
      "bytearray(b'\\xc1\\x0e\\xc2\\r\\xc3\\xcd\\x9fe,\\x7f\\xac/\\x120\\xf7\\xa3\\xc8(8\\x9a\\x149/\\x05')\n"
     ]
    }
   ],
   "source": [
    "# таким же образом из изначально заданного списка слов вычисляем энтропию\n",
    "mnemo = mnemonic('english')\n",
    "entropy = mnemo.to_entropy(seed)\n",
    "\n",
    "print(entropy)"
   ]
  },
  {
   "cell_type": "code",
   "execution_count": 6,
   "id": "insured-suspect",
   "metadata": {},
   "outputs": [
    {
     "name": "stdout",
     "output_type": "stream",
     "text": [
      "bytearray(b'\\xc1\\x0e\\xc2\\r\\xc3\\xcd\\x9fe,\\x7f\\xac/\\x120\\xf7\\xa3\\xc8(8\\x9a\\x149/\\x05')\n",
      "b'c10ec20dc3cd9f652c7fac2f1230f7a3c828389a14392f05'\n"
     ]
    }
   ],
   "source": [
    "# Восстанавливаем изначально заданный ключ\n",
    "print(entropy)\n",
    "entropy = binascii.hexlify(entropy)\n",
    "print(entropy)"
   ]
  },
  {
   "cell_type": "code",
   "execution_count": null,
   "id": "literary-camcorder",
   "metadata": {},
   "outputs": [],
   "source": []
  }
 ],
 "metadata": {
  "kernelspec": {
   "display_name": "Python 3",
   "language": "python",
   "name": "python3"
  },
  "language_info": {
   "codemirror_mode": {
    "name": "ipython",
    "version": 3
   },
   "file_extension": ".py",
   "mimetype": "text/x-python",
   "name": "python",
   "nbconvert_exporter": "python",
   "pygments_lexer": "ipython3",
   "version": "3.8.5"
  }
 },
 "nbformat": 4,
 "nbformat_minor": 5
}
